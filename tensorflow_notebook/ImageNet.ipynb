{
 "cells": [
  {
   "cell_type": "code",
   "execution_count": 5,
   "metadata": {},
   "outputs": [
    {
     "name": "stdout",
     "output_type": "stream",
     "text": [
      "The autoreload extension is already loaded. To reload it, use:\n",
      "  %reload_ext autoreload\n"
     ]
    },
    {
     "name": "stderr",
     "output_type": "stream",
     "text": [
      "c:\\program files\\python35\\lib\\site-packages\\h5py\\__init__.py:36: FutureWarning: Conversion of the second argument of issubdtype from `float` to `np.floating` is deprecated. In future, it will be treated as `np.float64 == np.dtype(float).type`.\n",
      "  from ._conv import register_converters as _register_converters\n"
     ]
    }
   ],
   "source": [
    "%load_ext autoreload\n",
    "%autoreload 2\n",
    "\n",
    "import tensorflow as tf\n",
    "from urllib.request import urlopen\n",
    "import sys\n",
    "import numpy as np\n",
    "import cv2\n",
    "import matplotlib.pyplot as plt\n",
    "import pandas as pd\n",
    "import glob\n",
    "from skimage import io"
   ]
  },
  {
   "cell_type": "code",
   "execution_count": 2,
   "metadata": {
    "collapsed": true
   },
   "outputs": [],
   "source": [
    "def urls_from_wnid(id):\n",
    "    url = 'http://image-net.org/api/text/imagenet.synset.geturls?wnid='\n",
    "    f = urlopen(url + id)\n",
    "    content = f.read()\n",
    "    url_list = content.decode().split('\\n')\n",
    "    url_list = list(map(lambda x: x[:-1], url_list))\n",
    "    return url_list"
   ]
  },
  {
   "cell_type": "code",
   "execution_count": 3,
   "metadata": {
    "collapsed": true
   },
   "outputs": [],
   "source": [
    "def download(x):\n",
    "    try:\n",
    "        f = urlopen(x, timeout=5)\n",
    "        if f is None:\n",
    "            return None\n",
    "        content = f.read()\n",
    "        with open('temp_image.jpeg', 'wb') as file:\n",
    "            file.write(content)\n",
    "            image = io.imread('temp_image.jpeg')\n",
    "            return image\n",
    "    except:\n",
    "        return None"
   ]
  },
  {
   "cell_type": "code",
   "execution_count": 4,
   "metadata": {
    "collapsed": true
   },
   "outputs": [],
   "source": [
    "wnid = 'n03384891'\n",
    "urls = urls_from_wnid(wnid)"
   ]
  },
  {
   "cell_type": "code",
   "execution_count": 5,
   "metadata": {
    "collapsed": true
   },
   "outputs": [],
   "source": [
    "image = io.imread(urls[0][:-1])"
   ]
  },
  {
   "cell_type": "code",
   "execution_count": 6,
   "metadata": {
    "collapsed": true
   },
   "outputs": [],
   "source": [
    "f = urlopen(urls[1][:-1])\n",
    "content = f.read()\n",
    "with open('temp_image.jpeg', 'wb') as file:\n",
    "    file.write(content)"
   ]
  },
  {
   "cell_type": "code",
   "execution_count": 7,
   "metadata": {
    "collapsed": true
   },
   "outputs": [],
   "source": [
    "res = cv2.resize(image, dsize=(256, 256), interpolation=cv2.INTER_NEAREST)\n",
    "res2 = cv2.resize(image, dsize=(256, 256), interpolation=cv2.INTER_CUBIC)"
   ]
  },
  {
   "cell_type": "code",
   "execution_count": 8,
   "metadata": {},
   "outputs": [
    {
     "data": {
      "text/plain": [
       "(256, 256)"
      ]
     },
     "execution_count": 8,
     "metadata": {},
     "output_type": "execute_result"
    }
   ],
   "source": [
    "res.shape"
   ]
  },
  {
   "cell_type": "code",
   "execution_count": 9,
   "metadata": {},
   "outputs": [
    {
     "data": {
      "image/png": "[encoded data removed]",
      "text/plain": [
       "<matplotlib.figure.Figure at 0x12b08367470>"
      ]
     },
     "metadata": {},
     "output_type": "display_data"
    }
   ],
   "source": [
    "plt.figure(figsize=(10,10))\n",
    "\n",
    "plt.subplot(5, 5, 1)\n",
    "plt.imshow(image)\n",
    "plt.subplot(5, 5, 2)\n",
    "plt.imshow(res)\n",
    "plt.subplot(5, 5, 3)\n",
    "plt.imshow(res2)\n",
    "plt.show()"
   ]
  },
  {
   "cell_type": "code",
   "execution_count": 39,
   "metadata": {},
   "outputs": [
    {
     "name": "stdout",
     "output_type": "stream",
     "text": [
      "Processing 1309/1309"
     ]
    }
   ],
   "source": [
    "images = []\n",
    "cur = 0\n",
    "total = len(urls)\n",
    "succ = 0\n",
    "for url in urls:\n",
    "    image = download(url[:-1])\n",
    "    if image is not None and image.ndim == 3:\n",
    "        image = cv2.resize(image, dsize=(256, 256), interpolation=cv2.INTER_NEAREST)\n",
    "        images.append(image)\n",
    "        succ += 1\n",
    "    cur += 1\n",
    "    sys.stdout.write('\\rProcessing {}/{}'.format(cur, total))"
   ]
  },
  {
   "cell_type": "code",
   "execution_count": 4,
   "metadata": {
    "collapsed": true
   },
   "outputs": [],
   "source": [
    "data_sets = ['n03384891', 'n04335693', 'n04350905', 'n04355115', 'n03595614']"
   ]
  },
  {
   "cell_type": "code",
   "execution_count": 5,
   "metadata": {},
   "outputs": [
    {
     "name": "stdout",
     "output_type": "stream",
     "text": [
      "Processing 3188"
     ]
    }
   ],
   "source": [
    "images = []\n",
    "cont = 0\n",
    "for set_id in data_sets:\n",
    "    urls = urls_from_wnid(set_id)\n",
    "    for url in urls:\n",
    "        image = download(url)\n",
    "        if image is not None and image.ndim == 3:\n",
    "            image = cv2.resize(image, dsize=(256, 256), interpolation=cv2.INTER_NEAREST)\n",
    "            images.append(image)\n",
    "            cont += 1\n",
    "            sys.stdout.write('\\rProcessing {}'.format(cont))\n",
    "            "
   ]
  },
  {
   "cell_type": "code",
   "execution_count": 20,
   "metadata": {
    "collapsed": true
   },
   "outputs": [],
   "source": [
    "x = np.array(images)"
   ]
  },
  {
   "cell_type": "code",
   "execution_count": 22,
   "metadata": {
    "collapsed": true
   },
   "outputs": [],
   "source": [
    "np.save(r'data/dataset.npy',x)"
   ]
  },
  {
   "cell_type": "code",
   "execution_count": 2,
   "metadata": {
    "collapsed": true
   },
   "outputs": [],
   "source": [
    "x = np.load(r'data/dataset.npy')"
   ]
  }
 ],
 "metadata": {
  "kernelspec": {
   "display_name": "Python 3",
   "language": "python",
   "name": "python3"
  },
  "language_info": {
   "codemirror_mode": {
    "name": "ipython",
    "version": 3
   },
   "file_extension": ".py",
   "mimetype": "text/x-python",
   "name": "python",
   "nbconvert_exporter": "python",
   "pygments_lexer": "ipython3",
   "version": "3.5.3"
  }
 },
 "nbformat": 4,
 "nbformat_minor": 2
}
