{
 "cells": [
  {
   "cell_type": "code",
   "execution_count": 1,
   "metadata": {},
   "outputs": [
    {
     "name": "stderr",
     "output_type": "stream",
     "text": [
      "c:\\program files\\python35\\lib\\site-packages\\h5py\\__init__.py:36: FutureWarning: Conversion of the second argument of issubdtype from `float` to `np.floating` is deprecated. In future, it will be treated as `np.float64 == np.dtype(float).type`.\n",
      "  from ._conv import register_converters as _register_converters\n"
     ]
    },
    {
     "name": "stdout",
     "output_type": "stream",
     "text": [
      "1.10.0\n"
     ]
    }
   ],
   "source": [
    "import tensorflow as tf\n",
    "from tensorflow import keras\n",
    "\n",
    "import numpy as np\n",
    "\n",
    "print(tf.__version__)"
   ]
  },
  {
   "cell_type": "code",
   "execution_count": 2,
   "metadata": {
    "collapsed": true
   },
   "outputs": [],
   "source": [
    "imdb = keras.datasets.imdb\n",
    "(train_data, train_labels), (test_data, test_labels) = imdb.load_data(num_words=10000)"
   ]
  },
  {
   "cell_type": "code",
   "execution_count": 3,
   "metadata": {},
   "outputs": [
    {
     "name": "stdout",
     "output_type": "stream",
     "text": [
      "Training entries: 25000, labels: 25000\n"
     ]
    }
   ],
   "source": [
    "print(\"Training entries: {}, labels: {}\".format(len(train_data), len(train_labels)))"
   ]
  },
  {
   "cell_type": "code",
   "execution_count": 4,
   "metadata": {},
   "outputs": [
    {
     "name": "stdout",
     "output_type": "stream",
     "text": [
      "[1, 14, 22, 16, 43, 530, 973, 1622, 1385, 65, 458, 4468, 66, 3941, 4, 173, 36, 256, 5, 25, 100, 43, 838, 112, 50, 670, 2, 9, 35, 480, 284, 5, 150, 4, 172, 112, 167, 2, 336, 385, 39, 4, 172, 4536, 1111, 17, 546, 38, 13, 447, 4, 192, 50, 16, 6, 147, 2025, 19, 14, 22, 4, 1920, 4613, 469, 4, 22, 71, 87, 12, 16, 43, 530, 38, 76, 15, 13, 1247, 4, 22, 17, 515, 17, 12, 16, 626, 18, 2, 5, 62, 386, 12, 8, 316, 8, 106, 5, 4, 2223, 5244, 16, 480, 66, 3785, 33, 4, 130, 12, 16, 38, 619, 5, 25, 124, 51, 36, 135, 48, 25, 1415, 33, 6, 22, 12, 215, 28, 77, 52, 5, 14, 407, 16, 82, 2, 8, 4, 107, 117, 5952, 15, 256, 4, 2, 7, 3766, 5, 723, 36, 71, 43, 530, 476, 26, 400, 317, 46, 7, 4, 2, 1029, 13, 104, 88, 4, 381, 15, 297, 98, 32, 2071, 56, 26, 141, 6, 194, 7486, 18, 4, 226, 22, 21, 134, 476, 26, 480, 5, 144, 30, 5535, 18, 51, 36, 28, 224, 92, 25, 104, 4, 226, 65, 16, 38, 1334, 88, 12, 16, 283, 5, 16, 4472, 113, 103, 32, 15, 16, 5345, 19, 178, 32]\n"
     ]
    }
   ],
   "source": [
    "print(train_data[0])"
   ]
  },
  {
   "cell_type": "code",
   "execution_count": 5,
   "metadata": {},
   "outputs": [
    {
     "data": {
      "text/plain": [
       "(218, 189)"
      ]
     },
     "execution_count": 5,
     "metadata": {},
     "output_type": "execute_result"
    }
   ],
   "source": [
    "len(train_data[0]), len(train_data[1])"
   ]
  },
  {
   "cell_type": "code",
   "execution_count": 6,
   "metadata": {
    "collapsed": true
   },
   "outputs": [],
   "source": [
    "# A dictionary mapping words to an integer index\n",
    "word_index = imdb.get_word_index()\n",
    "\n",
    "# The first indices are reserved\n",
    "word_index = {k:(v+3) for k,v in word_index.items()} \n",
    "word_index[\"<PAD>\"] = 0\n",
    "word_index[\"<START>\"] = 1\n",
    "word_index[\"<UNK>\"] = 2  # unknown\n",
    "word_index[\"<UNUSED>\"] = 3\n",
    "\n",
    "reverse_word_index = dict([(value, key) for (key, value) in word_index.items()])\n",
    "\n",
    "def decode_review(text):\n",
    "    return ' '.join([reverse_word_index.get(i, '?') for i in text])"
   ]
  },
  {
   "cell_type": "code",
   "execution_count": 26,
   "metadata": {},
   "outputs": [
    {
     "name": "stdout",
     "output_type": "stream",
     "text": [
      "<START> this film was just brilliant casting location scenery story direction everyone's really suited the part they played and you could just imagine being there robert <UNK> is an amazing actor and now the same being director <UNK> father came from the same scottish island as myself so i loved the fact there was a real connection with this film the witty remarks throughout the film were great it was just brilliant so much that i bought the film as soon as it was released for <UNK> and would recommend it to everyone to watch and the fly fishing was amazing really cried at the end it was so sad and you know what they say if you cry at a film it must have been good and this definitely was also <UNK> to the two little boy's that played the <UNK> of norman and paul they were just brilliant children are often left out of the <UNK> list i think because the stars that play them all grown up are such a big profile for the whole film but these children are amazing and should be praised for what they have done don't you think the whole story was so lovely because it was true and was someone's life after all that was shared with us all <PAD> <PAD> <PAD> <PAD> <PAD> <PAD> <PAD> <PAD> <PAD> <PAD> <PAD> <PAD> <PAD> <PAD> <PAD> <PAD> <PAD> <PAD> <PAD> <PAD> <PAD> <PAD> <PAD> <PAD> <PAD> <PAD> <PAD> <PAD> <PAD> <PAD> <PAD> <PAD> <PAD> <PAD> <PAD> <PAD> <PAD> <PAD>\n",
      "1\n"
     ]
    }
   ],
   "source": [
    "print(decode_review(train_data[0]))\n",
    "print(train_labels[0])"
   ]
  },
  {
   "cell_type": "code",
   "execution_count": 8,
   "metadata": {
    "collapsed": true
   },
   "outputs": [],
   "source": [
    "train_data = keras.preprocessing.sequence.pad_sequences(train_data,\n",
    "                                                        value=word_index[\"<PAD>\"],\n",
    "                                                        padding='post',\n",
    "                                                        maxlen=256)\n",
    "\n",
    "test_data = keras.preprocessing.sequence.pad_sequences(test_data,\n",
    "                                                       value=word_index[\"<PAD>\"],\n",
    "                                                       padding='post',\n",
    "                                                       maxlen=256)"
   ]
  },
  {
   "cell_type": "code",
   "execution_count": 9,
   "metadata": {},
   "outputs": [
    {
     "data": {
      "text/plain": [
       "(256, 256)"
      ]
     },
     "execution_count": 9,
     "metadata": {},
     "output_type": "execute_result"
    }
   ],
   "source": [
    "len(train_data[0]), len(train_data[1])"
   ]
  },
  {
   "cell_type": "code",
   "execution_count": 10,
   "metadata": {},
   "outputs": [
    {
     "name": "stdout",
     "output_type": "stream",
     "text": [
      "[   1   14   22   16   43  530  973 1622 1385   65  458 4468   66 3941\n",
      "    4  173   36  256    5   25  100   43  838  112   50  670    2    9\n",
      "   35  480  284    5  150    4  172  112  167    2  336  385   39    4\n",
      "  172 4536 1111   17  546   38   13  447    4  192   50   16    6  147\n",
      " 2025   19   14   22    4 1920 4613  469    4   22   71   87   12   16\n",
      "   43  530   38   76   15   13 1247    4   22   17  515   17   12   16\n",
      "  626   18    2    5   62  386   12    8  316    8  106    5    4 2223\n",
      " 5244   16  480   66 3785   33    4  130   12   16   38  619    5   25\n",
      "  124   51   36  135   48   25 1415   33    6   22   12  215   28   77\n",
      "   52    5   14  407   16   82    2    8    4  107  117 5952   15  256\n",
      "    4    2    7 3766    5  723   36   71   43  530  476   26  400  317\n",
      "   46    7    4    2 1029   13  104   88    4  381   15  297   98   32\n",
      " 2071   56   26  141    6  194 7486   18    4  226   22   21  134  476\n",
      "   26  480    5  144   30 5535   18   51   36   28  224   92   25  104\n",
      "    4  226   65   16   38 1334   88   12   16  283    5   16 4472  113\n",
      "  103   32   15   16 5345   19  178   32    0    0    0    0    0    0\n",
      "    0    0    0    0    0    0    0    0    0    0    0    0    0    0\n",
      "    0    0    0    0    0    0    0    0    0    0    0    0    0    0\n",
      "    0    0    0    0]\n"
     ]
    }
   ],
   "source": [
    "print(train_data[0])"
   ]
  },
  {
   "cell_type": "code",
   "execution_count": 29,
   "metadata": {},
   "outputs": [
    {
     "name": "stdout",
     "output_type": "stream",
     "text": [
      "_________________________________________________________________\n",
      "Layer (type)                 Output Shape              Param #   \n",
      "=================================================================\n",
      "embedding_4 (Embedding)      (None, None, 16)          160000    \n",
      "_________________________________________________________________\n",
      "global_average_pooling1d_1 ( (None, 16)                0         \n",
      "_________________________________________________________________\n",
      "dense_6 (Dense)              (None, 16)                272       \n",
      "_________________________________________________________________\n",
      "dense_7 (Dense)              (None, 1)                 17        \n",
      "=================================================================\n",
      "Total params: 160,289\n",
      "Trainable params: 160,289\n",
      "Non-trainable params: 0\n",
      "_________________________________________________________________\n"
     ]
    }
   ],
   "source": [
    "# input shape is the vocabulary count used for the movie reviews (10,000 words)\n",
    "vocab_size = 10000\n",
    "\n",
    "model = keras.Sequential()\n",
    "model.add(keras.layers.Embedding(vocab_size, 16))\n",
    "model.add(keras.layers.GlobalAveragePooling1D())\n",
    "model.add(keras.layers.Dense(16, activation=tf.nn.relu))\n",
    "model.add(keras.layers.Dense(1, activation=tf.nn.sigmoid))\n",
    "\n",
    "model.summary()"
   ]
  },
  {
   "cell_type": "code",
   "execution_count": 28,
   "metadata": {
    "collapsed": true
   },
   "outputs": [],
   "source": [
    "model.compile(optimizer=tf.train.AdamOptimizer(),\n",
    "              loss='binary_crossentropy',\n",
    "              metrics=['accuracy'])"
   ]
  },
  {
   "cell_type": "code",
   "execution_count": 15,
   "metadata": {
    "collapsed": true
   },
   "outputs": [],
   "source": [
    "x_val = train_data[:10000]\n",
    "partial_x_train = train_data[10000:]\n",
    "\n",
    "y_val = train_labels[:10000]\n",
    "partial_y_train = train_labels[10000:]"
   ]
  },
  {
   "cell_type": "code",
   "execution_count": 25,
   "metadata": {},
   "outputs": [
    {
     "name": "stdout",
     "output_type": "stream",
     "text": [
      "(10000, 256)\n",
      "(10000,)\n",
      "0\n"
     ]
    }
   ],
   "source": [
    "print(x_val.shape)\n",
    "print(y_val.shape)\n",
    "print(y_val[1])"
   ]
  },
  {
   "cell_type": "code",
   "execution_count": 14,
   "metadata": {},
   "outputs": [
    {
     "name": "stdout",
     "output_type": "stream",
     "text": [
      "Train on 15000 samples, validate on 10000 samples\n",
      "Epoch 1/40\n",
      "15000/15000 [==============================] - 3s 176us/step - loss: 0.6924 - acc: 0.5130 - val_loss: 0.6908 - val_acc: 0.5420\n",
      "Epoch 2/40\n",
      "15000/15000 [==============================] - 1s 44us/step - loss: 0.6893 - acc: 0.5641 - val_loss: 0.6880 - val_acc: 0.5874\n",
      "Epoch 3/40\n",
      "15000/15000 [==============================] - 1s 46us/step - loss: 0.6858 - acc: 0.6130 - val_loss: 0.6846 - val_acc: 0.6485\n",
      "Epoch 4/40\n",
      "15000/15000 [==============================] - 1s 47us/step - loss: 0.6813 - acc: 0.6463 - val_loss: 0.6811 - val_acc: 0.5644\n",
      "Epoch 5/40\n",
      "15000/15000 [==============================] - 1s 44us/step - loss: 0.6753 - acc: 0.6885 - val_loss: 0.6732 - val_acc: 0.7022\n",
      "Epoch 6/40\n",
      "15000/15000 [==============================] - 1s 44us/step - loss: 0.6666 - acc: 0.7258 - val_loss: 0.6638 - val_acc: 0.7055\n",
      "Epoch 7/40\n",
      "15000/15000 [==============================] - 1s 46us/step - loss: 0.6546 - acc: 0.7443 - val_loss: 0.6515 - val_acc: 0.7434\n",
      "Epoch 8/40\n",
      "15000/15000 [==============================] - 1s 45us/step - loss: 0.6388 - acc: 0.7607 - val_loss: 0.6357 - val_acc: 0.7606\n",
      "Epoch 9/40\n",
      "15000/15000 [==============================] - 1s 45us/step - loss: 0.6197 - acc: 0.7699 - val_loss: 0.6161 - val_acc: 0.7600\n",
      "Epoch 10/40\n",
      "15000/15000 [==============================] - 1s 46us/step - loss: 0.5965 - acc: 0.7889 - val_loss: 0.5938 - val_acc: 0.7741\n",
      "Epoch 11/40\n",
      "15000/15000 [==============================] - 1s 47us/step - loss: 0.5709 - acc: 0.7893 - val_loss: 0.5724 - val_acc: 0.7790\n",
      "Epoch 12/40\n",
      "15000/15000 [==============================] - 1s 49us/step - loss: 0.5439 - acc: 0.8043 - val_loss: 0.5444 - val_acc: 0.7920\n",
      "Epoch 13/40\n",
      "15000/15000 [==============================] - 1s 44us/step - loss: 0.5146 - acc: 0.8223 - val_loss: 0.5197 - val_acc: 0.8056\n",
      "Epoch 14/40\n",
      "15000/15000 [==============================] - 1s 45us/step - loss: 0.4867 - acc: 0.8319 - val_loss: 0.4951 - val_acc: 0.8153\n",
      "Epoch 15/40\n",
      "15000/15000 [==============================] - 1s 50us/step - loss: 0.4596 - acc: 0.8419 - val_loss: 0.4712 - val_acc: 0.8204\n",
      "Epoch 16/40\n",
      "15000/15000 [==============================] - 1s 43us/step - loss: 0.4345 - acc: 0.8496 - val_loss: 0.4493 - val_acc: 0.8334\n",
      "Epoch 17/40\n",
      "15000/15000 [==============================] - 1s 45us/step - loss: 0.4100 - acc: 0.8615 - val_loss: 0.4297 - val_acc: 0.8406\n",
      "Epoch 18/40\n",
      "15000/15000 [==============================] - 1s 45us/step - loss: 0.3883 - acc: 0.8701 - val_loss: 0.4119 - val_acc: 0.8476\n",
      "Epoch 19/40\n",
      "15000/15000 [==============================] - 1s 45us/step - loss: 0.3690 - acc: 0.8757 - val_loss: 0.3964 - val_acc: 0.8512\n",
      "Epoch 20/40\n",
      "15000/15000 [==============================] - 1s 48us/step - loss: 0.3513 - acc: 0.8820 - val_loss: 0.3828 - val_acc: 0.8548\n",
      "Epoch 21/40\n",
      "15000/15000 [==============================] - 1s 46us/step - loss: 0.3356 - acc: 0.8847 - val_loss: 0.3709 - val_acc: 0.8584\n",
      "Epoch 22/40\n",
      "15000/15000 [==============================] - 1s 48us/step - loss: 0.3214 - acc: 0.8886 - val_loss: 0.3606 - val_acc: 0.8611\n",
      "Epoch 23/40\n",
      "15000/15000 [==============================] - 1s 44us/step - loss: 0.3089 - acc: 0.8925 - val_loss: 0.3519 - val_acc: 0.8644\n",
      "Epoch 24/40\n",
      "15000/15000 [==============================] - 1s 47us/step - loss: 0.2969 - acc: 0.8952 - val_loss: 0.3438 - val_acc: 0.8666\n",
      "Epoch 25/40\n",
      "15000/15000 [==============================] - 1s 46us/step - loss: 0.2863 - acc: 0.8992 - val_loss: 0.3368 - val_acc: 0.8689\n",
      "Epoch 26/40\n",
      "15000/15000 [==============================] - 1s 47us/step - loss: 0.2764 - acc: 0.9023 - val_loss: 0.3311 - val_acc: 0.8709\n",
      "Epoch 27/40\n",
      "15000/15000 [==============================] - 1s 45us/step - loss: 0.2677 - acc: 0.9053 - val_loss: 0.3256 - val_acc: 0.8721\n",
      "Epoch 28/40\n",
      "15000/15000 [==============================] - 1s 46us/step - loss: 0.2588 - acc: 0.9095 - val_loss: 0.3202 - val_acc: 0.8737\n",
      "Epoch 29/40\n",
      "15000/15000 [==============================] - 1s 44us/step - loss: 0.2511 - acc: 0.9109 - val_loss: 0.3166 - val_acc: 0.8743\n",
      "Epoch 30/40\n",
      "15000/15000 [==============================] - 1s 49us/step - loss: 0.2447 - acc: 0.9125 - val_loss: 0.3123 - val_acc: 0.8773\n",
      "Epoch 31/40\n",
      "15000/15000 [==============================] - 1s 45us/step - loss: 0.2366 - acc: 0.9167 - val_loss: 0.3092 - val_acc: 0.8765\n",
      "Epoch 32/40\n",
      "15000/15000 [==============================] - 1s 52us/step - loss: 0.2307 - acc: 0.9194 - val_loss: 0.3062 - val_acc: 0.8794\n",
      "Epoch 33/40\n",
      "15000/15000 [==============================] - 1s 44us/step - loss: 0.2237 - acc: 0.9211 - val_loss: 0.3035 - val_acc: 0.8806\n",
      "Epoch 34/40\n",
      "15000/15000 [==============================] - 1s 51us/step - loss: 0.2179 - acc: 0.9237 - val_loss: 0.3017 - val_acc: 0.8802\n",
      "Epoch 35/40\n",
      "15000/15000 [==============================] - 1s 44us/step - loss: 0.2127 - acc: 0.9258 - val_loss: 0.2990 - val_acc: 0.8800\n",
      "Epoch 36/40\n",
      "15000/15000 [==============================] - 1s 42us/step - loss: 0.2067 - acc: 0.9287 - val_loss: 0.2973 - val_acc: 0.8806\n",
      "Epoch 37/40\n",
      "15000/15000 [==============================] - 1s 49us/step - loss: 0.2017 - acc: 0.9301 - val_loss: 0.2956 - val_acc: 0.8808\n",
      "Epoch 38/40\n",
      "15000/15000 [==============================] - 1s 47us/step - loss: 0.1968 - acc: 0.9315 - val_loss: 0.2945 - val_acc: 0.8805\n",
      "Epoch 39/40\n",
      "15000/15000 [==============================] - 1s 49us/step - loss: 0.1916 - acc: 0.9339 - val_loss: 0.2928 - val_acc: 0.8832\n",
      "Epoch 40/40\n",
      "15000/15000 [==============================] - 1s 45us/step - loss: 0.1871 - acc: 0.9356 - val_loss: 0.2917 - val_acc: 0.8832\n"
     ]
    }
   ],
   "source": [
    "history = model.fit(partial_x_train,\n",
    "                    partial_y_train,\n",
    "                    epochs=40,\n",
    "                    batch_size=512,\n",
    "                    validation_data=(x_val, y_val),\n",
    "                    verbose=1)"
   ]
  },
  {
   "cell_type": "code",
   "execution_count": 15,
   "metadata": {},
   "outputs": [
    {
     "name": "stdout",
     "output_type": "stream",
     "text": [
      "25000/25000 [==============================] - 1s 42us/step\n",
      "[0.30642346364974976, 0.87484]\n"
     ]
    }
   ],
   "source": [
    "results = model.evaluate(test_data, test_labels)\n",
    "\n",
    "print(results)"
   ]
  },
  {
   "cell_type": "code",
   "execution_count": 16,
   "metadata": {},
   "outputs": [
    {
     "data": {
      "text/plain": [
       "dict_keys(['val_loss', 'val_acc', 'loss', 'acc'])"
      ]
     },
     "execution_count": 16,
     "metadata": {},
     "output_type": "execute_result"
    }
   ],
   "source": [
    "history_dict = history.history\n",
    "history_dict.keys()"
   ]
  },
  {
   "cell_type": "code",
   "execution_count": 17,
   "metadata": {},
   "outputs": [
    {
     "data": {
      "image/png": "[encoded data removed]",
      "text/plain": [
       "<matplotlib.figure.Figure at 0x26db1c18a58>"
      ]
     },
     "metadata": {},
     "output_type": "display_data"
    }
   ],
   "source": [
    "import matplotlib.pyplot as plt\n",
    "\n",
    "acc = history.history['acc']\n",
    "val_acc = history.history['val_acc']\n",
    "loss = history.history['loss']\n",
    "val_loss = history.history['val_loss']\n",
    "\n",
    "epochs = range(1, len(acc) + 1)\n",
    "\n",
    "# \"bo\" is for \"blue dot\"\n",
    "plt.plot(epochs, loss, 'bo', label='Training loss')\n",
    "# b is for \"solid blue line\"\n",
    "plt.plot(epochs, val_loss, 'b', label='Validation loss')\n",
    "plt.title('Training and validation loss')\n",
    "plt.xlabel('Epochs')\n",
    "plt.ylabel('Loss')\n",
    "plt.legend()\n",
    "\n",
    "plt.show()"
   ]
  },
  {
   "cell_type": "code",
   "execution_count": 18,
   "metadata": {},
   "outputs": [
    {
     "data": {
      "image/png": "[encoded data removed]",
      "text/plain": [
       "<matplotlib.figure.Figure at 0x26db1c18710>"
      ]
     },
     "metadata": {},
     "output_type": "display_data"
    }
   ],
   "source": [
    "plt.clf()   # clear figure\n",
    "acc_values = history_dict['acc']\n",
    "val_acc_values = history_dict['val_acc']\n",
    "\n",
    "plt.plot(epochs, acc, 'bo', label='Training acc')\n",
    "plt.plot(epochs, val_acc, 'b', label='Validation acc')\n",
    "plt.title('Training and validation accuracy')\n",
    "plt.xlabel('Epochs')\n",
    "plt.ylabel('Accuracy')\n",
    "plt.legend()\n",
    "\n",
    "plt.show()"
   ]
  },
  {
   "cell_type": "code",
   "execution_count": 71,
   "metadata": {},
   "outputs": [
    {
     "name": "stdout",
     "output_type": "stream",
     "text": [
      "_________________________________________________________________\n",
      "Layer (type)                 Output Shape              Param #   \n",
      "=================================================================\n",
      "embedding_13 (Embedding)     (None, None, 512)         5120000   \n",
      "_________________________________________________________________\n",
      "cu_dnnlstm_10 (CuDNNLSTM)    (None, 128)               328704    \n",
      "_________________________________________________________________\n",
      "dropout_5 (Dropout)          (None, 128)               0         \n",
      "_________________________________________________________________\n",
      "dense_19 (Dense)             (None, 128)               16512     \n",
      "_________________________________________________________________\n",
      "dropout_6 (Dropout)          (None, 128)               0         \n",
      "_________________________________________________________________\n",
      "dense_20 (Dense)             (None, 1)                 129       \n",
      "=================================================================\n",
      "Total params: 5,465,345\n",
      "Trainable params: 5,465,345\n",
      "Non-trainable params: 0\n",
      "_________________________________________________________________\n"
     ]
    }
   ],
   "source": [
    "m = keras.Sequential()\n",
    "m.add(keras.layers.Embedding(vocab_size, 512))\n",
    "m.add(keras.layers.CuDNNLSTM(128, return_sequences=False))\n",
    "m.add(keras.layers.Dropout(.4))\n",
    "m.add(keras.layers.Dense(128, activation=tf.nn.relu))\n",
    "m.add(keras.layers.Dropout(.4))\n",
    "m.add(keras.layers.Dense(1, activation=tf.nn.sigmoid))\n",
    "m.summary()"
   ]
  },
  {
   "cell_type": "code",
   "execution_count": 72,
   "metadata": {
    "collapsed": true
   },
   "outputs": [],
   "source": [
    "m.compile(optimizer=tf.train.AdamOptimizer(),\n",
    "              loss=tf.keras.losses.binary_crossentropy,\n",
    "              metrics=['accuracy'])"
   ]
  },
  {
   "cell_type": "code",
   "execution_count": 73,
   "metadata": {},
   "outputs": [
    {
     "name": "stdout",
     "output_type": "stream",
     "text": [
      "Train on 15000 samples, validate on 10000 samples\n",
      "Epoch 1/23\n",
      "15000/15000 [==============================] - 9s 631us/step - loss: 0.7013 - acc: 0.4972 - val_loss: 0.6931 - val_acc: 0.5020\n",
      "Epoch 2/23\n",
      "15000/15000 [==============================] - 8s 519us/step - loss: 0.6948 - acc: 0.5035 - val_loss: 0.6933 - val_acc: 0.4994\n",
      "Epoch 3/23\n",
      "15000/15000 [==============================] - 8s 520us/step - loss: 0.6944 - acc: 0.4956 - val_loss: 0.6928 - val_acc: 0.5041\n",
      "Epoch 4/23\n",
      "15000/15000 [==============================] - 8s 520us/step - loss: 0.6931 - acc: 0.5073 - val_loss: 0.6930 - val_acc: 0.5072\n",
      "Epoch 5/23\n",
      "15000/15000 [==============================] - 8s 518us/step - loss: 0.6927 - acc: 0.5152 - val_loss: 0.6921 - val_acc: 0.5064\n",
      "Epoch 6/23\n",
      "15000/15000 [==============================] - 8s 517us/step - loss: 0.6916 - acc: 0.5107 - val_loss: 0.6914 - val_acc: 0.5125\n",
      "Epoch 7/23\n",
      "15000/15000 [==============================] - 8s 517us/step - loss: 0.6908 - acc: 0.5199 - val_loss: 0.6898 - val_acc: 0.5186\n",
      "Epoch 8/23\n",
      "15000/15000 [==============================] - 8s 517us/step - loss: 0.6811 - acc: 0.5384 - val_loss: 0.6927 - val_acc: 0.5156\n",
      "Epoch 9/23\n",
      "15000/15000 [==============================] - 8s 517us/step - loss: 0.6705 - acc: 0.5510 - val_loss: 0.6847 - val_acc: 0.5324\n",
      "Epoch 10/23\n",
      "15000/15000 [==============================] - 8s 517us/step - loss: 0.6460 - acc: 0.5709 - val_loss: 0.6898 - val_acc: 0.5244\n",
      "Epoch 11/23\n",
      "15000/15000 [==============================] - 8s 518us/step - loss: 0.6266 - acc: 0.5898 - val_loss: 0.6804 - val_acc: 0.5579\n",
      "Epoch 12/23\n",
      "15000/15000 [==============================] - 8s 519us/step - loss: 0.5910 - acc: 0.6175 - val_loss: 0.7076 - val_acc: 0.5619\n",
      "Epoch 13/23\n",
      "15000/15000 [==============================] - 8s 521us/step - loss: 0.5392 - acc: 0.6904 - val_loss: 0.5489 - val_acc: 0.7520\n",
      "Epoch 14/23\n",
      "15000/15000 [==============================] - 8s 521us/step - loss: 0.3237 - acc: 0.8702 - val_loss: 0.3664 - val_acc: 0.8556\n",
      "Epoch 15/23\n",
      "15000/15000 [==============================] - 8s 521us/step - loss: 0.2195 - acc: 0.9229 - val_loss: 0.3803 - val_acc: 0.8534\n",
      "Epoch 16/23\n",
      "15000/15000 [==============================] - 8s 522us/step - loss: 0.1625 - acc: 0.9461 - val_loss: 0.3767 - val_acc: 0.8616\n",
      "Epoch 17/23\n",
      "15000/15000 [==============================] - 8s 521us/step - loss: 0.1285 - acc: 0.9625 - val_loss: 0.4407 - val_acc: 0.8594\n",
      "Epoch 18/23\n",
      "15000/15000 [==============================] - 8s 522us/step - loss: 0.0998 - acc: 0.9710 - val_loss: 0.4512 - val_acc: 0.8617\n",
      "Epoch 19/23\n",
      "15000/15000 [==============================] - 8s 522us/step - loss: 0.0739 - acc: 0.9803 - val_loss: 0.5408 - val_acc: 0.8617\n",
      "Epoch 20/23\n",
      "15000/15000 [==============================] - 8s 518us/step - loss: 0.0535 - acc: 0.9870 - val_loss: 0.5364 - val_acc: 0.8596\n",
      "Epoch 21/23\n",
      "15000/15000 [==============================] - 8s 511us/step - loss: 0.0441 - acc: 0.9901 - val_loss: 0.6302 - val_acc: 0.8567\n",
      "Epoch 22/23\n",
      "15000/15000 [==============================] - 8s 511us/step - loss: 0.0374 - acc: 0.9922 - val_loss: 0.6210 - val_acc: 0.8593\n",
      "Epoch 23/23\n",
      "15000/15000 [==============================] - 8s 514us/step - loss: 0.0326 - acc: 0.9931 - val_loss: 0.7069 - val_acc: 0.8586\n"
     ]
    }
   ],
   "source": [
    "history = m.fit(partial_x_train,\n",
    "                    partial_y_train,\n",
    "                    epochs=23,\n",
    "                    batch_size=512,\n",
    "                    validation_data=(x_val, y_val),\n",
    "                    verbose=1)"
   ]
  },
  {
   "cell_type": "code",
   "execution_count": 70,
   "metadata": {},
   "outputs": [
    {
     "name": "stdout",
     "output_type": "stream",
     "text": [
      "25000/25000 [==============================] - 7s 289us/step\n",
      "[0.6156622834801674, 0.8516]\n"
     ]
    }
   ],
   "source": [
    "results = m.evaluate(test_data, test_labels)\n",
    "print(results)"
   ]
  },
  {
   "cell_type": "code",
   "execution_count": 68,
   "metadata": {},
   "outputs": [
    {
     "data": {
      "image/png": "[encoded data removed]",
      "text/plain": [
       "<matplotlib.figure.Figure at 0x23b76620160>"
      ]
     },
     "metadata": {},
     "output_type": "display_data"
    }
   ],
   "source": [
    "import matplotlib.pyplot as plt\n",
    "\n",
    "acc = history.history['acc']\n",
    "val_acc = history.history['val_acc']\n",
    "loss = history.history['loss']\n",
    "val_loss = history.history['val_loss']\n",
    "\n",
    "epochs = range(1, len(acc) + 1)\n",
    "\n",
    "# \"bo\" is for \"blue dot\"\n",
    "plt.plot(epochs, loss, 'bo', label='Training loss')\n",
    "# b is for \"solid blue line\"\n",
    "plt.plot(epochs, val_loss, 'b', label='Validation loss')\n",
    "plt.title('Training and validation loss')\n",
    "plt.xlabel('Epochs')\n",
    "plt.ylabel('Loss')\n",
    "plt.legend()\n",
    "\n",
    "plt.show()"
   ]
  },
  {
   "cell_type": "code",
   "execution_count": 69,
   "metadata": {},
   "outputs": [
    {
     "data": {
      "image/png": "[encoded data removed]",
      "text/plain": [
       "<matplotlib.figure.Figure at 0x23b7d467b70>"
      ]
     },
     "metadata": {},
     "output_type": "display_data"
    }
   ],
   "source": [
    "history_dict = history.history\n",
    "history_dict.keys()\n",
    "plt.clf()   # clear figure\n",
    "acc_values = history_dict['acc']\n",
    "val_acc_values = history_dict['val_acc']\n",
    "\n",
    "plt.plot(epochs, acc, 'bo', label='Training acc')\n",
    "plt.plot(epochs, val_acc, 'b', label='Validation acc')\n",
    "plt.title('Training and validation accuracy')\n",
    "plt.xlabel('Epochs')\n",
    "plt.ylabel('Accuracy')\n",
    "plt.legend()\n",
    "\n",
    "plt.show()"
   ]
  },
  {
   "cell_type": "code",
   "execution_count": null,
   "metadata": {
    "collapsed": true
   },
   "outputs": [],
   "source": []
  }
 ],
 "metadata": {
  "kernelspec": {
   "display_name": "Python 3",
   "language": "python",
   "name": "python3"
  },
  "language_info": {
   "codemirror_mode": {
    "name": "ipython",
    "version": 3
   },
   "file_extension": ".py",
   "mimetype": "text/x-python",
   "name": "python",
   "nbconvert_exporter": "python",
   "pygments_lexer": "ipython3",
   "version": "3.5.3"
  }
 },
 "nbformat": 4,
 "nbformat_minor": 2
}
